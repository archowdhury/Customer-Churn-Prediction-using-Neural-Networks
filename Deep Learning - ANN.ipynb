{
 "cells": [
  {
   "cell_type": "markdown",
   "metadata": {},
   "source": [
    "# Customer Churn Prediction using Deep Learning"
   ]
  },
  {
   "cell_type": "code",
   "execution_count": 1,
   "metadata": {},
   "outputs": [
    {
     "name": "stderr",
     "output_type": "stream",
     "text": [
      "C:\\Users\\amitr\\Anaconda3\\lib\\site-packages\\h5py\\__init__.py:36: FutureWarning: Conversion of the second argument of issubdtype from `float` to `np.floating` is deprecated. In future, it will be treated as `np.float64 == np.dtype(float).type`.\n",
      "  from ._conv import register_converters as _register_converters\n",
      "Using TensorFlow backend.\n"
     ]
    }
   ],
   "source": [
    "import pandas as pd\n",
    "import numpy as np\n",
    "import keras \n",
    "import matplotlib.pyplot as plt\n",
    "\n",
    "%matplotlib inline"
   ]
  },
  {
   "cell_type": "markdown",
   "metadata": {},
   "source": [
    "#### Read in the data"
   ]
  },
  {
   "cell_type": "code",
   "execution_count": 3,
   "metadata": {},
   "outputs": [
    {
     "data": {
      "text/html": [
       "<div>\n",
       "<style scoped>\n",
       "    .dataframe tbody tr th:only-of-type {\n",
       "        vertical-align: middle;\n",
       "    }\n",
       "\n",
       "    .dataframe tbody tr th {\n",
       "        vertical-align: top;\n",
       "    }\n",
       "\n",
       "    .dataframe thead th {\n",
       "        text-align: right;\n",
       "    }\n",
       "</style>\n",
       "<table border=\"1\" class=\"dataframe\">\n",
       "  <thead>\n",
       "    <tr style=\"text-align: right;\">\n",
       "      <th></th>\n",
       "      <th>CreditScore</th>\n",
       "      <th>Geography</th>\n",
       "      <th>Gender</th>\n",
       "      <th>Age</th>\n",
       "      <th>Tenure</th>\n",
       "      <th>Balance</th>\n",
       "      <th>NumOfProducts</th>\n",
       "      <th>HasCrCard</th>\n",
       "      <th>IsActiveMember</th>\n",
       "      <th>EstimatedSalary</th>\n",
       "      <th>Exited</th>\n",
       "    </tr>\n",
       "  </thead>\n",
       "  <tbody>\n",
       "    <tr>\n",
       "      <th>0</th>\n",
       "      <td>619</td>\n",
       "      <td>France</td>\n",
       "      <td>Female</td>\n",
       "      <td>42</td>\n",
       "      <td>2</td>\n",
       "      <td>0.00</td>\n",
       "      <td>1</td>\n",
       "      <td>1</td>\n",
       "      <td>1</td>\n",
       "      <td>101348.88</td>\n",
       "      <td>1</td>\n",
       "    </tr>\n",
       "    <tr>\n",
       "      <th>1</th>\n",
       "      <td>608</td>\n",
       "      <td>Spain</td>\n",
       "      <td>Female</td>\n",
       "      <td>41</td>\n",
       "      <td>1</td>\n",
       "      <td>83807.86</td>\n",
       "      <td>1</td>\n",
       "      <td>0</td>\n",
       "      <td>1</td>\n",
       "      <td>112542.58</td>\n",
       "      <td>0</td>\n",
       "    </tr>\n",
       "    <tr>\n",
       "      <th>2</th>\n",
       "      <td>502</td>\n",
       "      <td>France</td>\n",
       "      <td>Female</td>\n",
       "      <td>42</td>\n",
       "      <td>8</td>\n",
       "      <td>159660.80</td>\n",
       "      <td>3</td>\n",
       "      <td>1</td>\n",
       "      <td>0</td>\n",
       "      <td>113931.57</td>\n",
       "      <td>1</td>\n",
       "    </tr>\n",
       "    <tr>\n",
       "      <th>3</th>\n",
       "      <td>699</td>\n",
       "      <td>France</td>\n",
       "      <td>Female</td>\n",
       "      <td>39</td>\n",
       "      <td>1</td>\n",
       "      <td>0.00</td>\n",
       "      <td>2</td>\n",
       "      <td>0</td>\n",
       "      <td>0</td>\n",
       "      <td>93826.63</td>\n",
       "      <td>0</td>\n",
       "    </tr>\n",
       "    <tr>\n",
       "      <th>4</th>\n",
       "      <td>850</td>\n",
       "      <td>Spain</td>\n",
       "      <td>Female</td>\n",
       "      <td>43</td>\n",
       "      <td>2</td>\n",
       "      <td>125510.82</td>\n",
       "      <td>1</td>\n",
       "      <td>1</td>\n",
       "      <td>1</td>\n",
       "      <td>79084.10</td>\n",
       "      <td>0</td>\n",
       "    </tr>\n",
       "  </tbody>\n",
       "</table>\n",
       "</div>"
      ],
      "text/plain": [
       "   CreditScore Geography  Gender  Age  Tenure    Balance  NumOfProducts  \\\n",
       "0          619    France  Female   42       2       0.00              1   \n",
       "1          608     Spain  Female   41       1   83807.86              1   \n",
       "2          502    France  Female   42       8  159660.80              3   \n",
       "3          699    France  Female   39       1       0.00              2   \n",
       "4          850     Spain  Female   43       2  125510.82              1   \n",
       "\n",
       "   HasCrCard  IsActiveMember  EstimatedSalary  Exited  \n",
       "0          1               1        101348.88       1  \n",
       "1          0               1        112542.58       0  \n",
       "2          1               0        113931.57       1  \n",
       "3          0               0         93826.63       0  \n",
       "4          1               1         79084.10       0  "
      ]
     },
     "execution_count": 3,
     "metadata": {},
     "output_type": "execute_result"
    }
   ],
   "source": [
    "# Read in the data\n",
    "df = pd.read_csv(r'C:\\Users\\amitr\\OneDrive\\Desktop\\Deep Learning\\Data\\Churn_Modelling.csv')\n",
    "df.drop(['RowNumber','CustomerId','Surname'], axis=1, inplace=True)\n",
    "df.head()"
   ]
  },
  {
   "cell_type": "markdown",
   "metadata": {},
   "source": [
    "#### Data Preprocessing"
   ]
  },
  {
   "cell_type": "code",
   "execution_count": 20,
   "metadata": {},
   "outputs": [],
   "source": [
    "# Create Training and Test sets\n",
    "\n",
    "from sklearn.model_selection import train_test_split\n",
    "\n",
    "y = df['Exited']\n",
    "X = df.drop('Exited',axis=1)\n",
    "\n",
    "X = pd.get_dummies(X,drop_first=True)\n",
    "\n",
    "X_train, X_test, y_train, y_test = train_test_split(X, y, test_size=0.2, random_state=123)\n"
   ]
  },
  {
   "cell_type": "markdown",
   "metadata": {},
   "source": [
    "#### Feature Scaling"
   ]
  },
  {
   "cell_type": "code",
   "execution_count": 21,
   "metadata": {},
   "outputs": [],
   "source": [
    "from sklearn.preprocessing import StandardScaler\n",
    "\n",
    "sc = StandardScaler()\n",
    "X_train = sc.fit_transform(X_train)\n",
    "X_test = sc.transform(X_test)"
   ]
  },
  {
   "cell_type": "markdown",
   "metadata": {},
   "source": [
    "### Create the Artificial Neural Network"
   ]
  },
  {
   "cell_type": "code",
   "execution_count": 24,
   "metadata": {},
   "outputs": [],
   "source": [
    "import keras\n",
    "from keras.models import Sequential\n",
    "from keras.layers import Dense"
   ]
  },
  {
   "cell_type": "markdown",
   "metadata": {},
   "source": [
    "##### How to choose the nodes in the hidden layer\n",
    "\n",
    "It's an art and there is no specific rule. However, a good starting point is to select an average of input and output nodes.\n",
    "\n",
    "In this case we have 11 input variables and 1 output (yes/no)...hence we can consider (11 + 1)/ 2 = 6 nodes\n",
    "\n",
    "##### Parameters to specify for the hidden layers we add\n",
    "1) Units --> Dimensionality of the output space. Same as output_dim in the earlier versions. Set his to 6 as above\n",
    "\n",
    "2) Kernel_initializer --> use 'uniform'. That assigns a small starting weight to each node considering a normal distribution\n",
    "\n",
    "3) Activation --> We'll use the ReLU (Rectified Linear Unit) function for the hidden layers, plus a sigmoid for the final output layer\n",
    "\n",
    "4) input_dim --> this is also mandatory. Set it as the number of independent variables in the input data (use df.shape to know the number of inputs)"
   ]
  },
  {
   "cell_type": "code",
   "execution_count": 40,
   "metadata": {},
   "outputs": [],
   "source": [
    "# Create the layers\n",
    "classifier = Sequential()\n",
    "\n",
    "# Adding the first hidden layer\n",
    "classifier.add(Dense(units=6,\n",
    "                     kernel_initializer='uniform',\n",
    "                     activation='relu',\n",
    "                     input_dim=11))\n",
    "\n",
    "# Adding the second hidden layer\n",
    "classifier.add(Dense(units=6,\n",
    "                     kernel_initializer='uniform',\n",
    "                     activation='relu'))  # don't need to specify the input_dim for subsequent layers\n",
    "\n",
    "# Add the final output layer\n",
    "classifier.add(Dense(units=1,   # we have a binary outcome Yes/No\n",
    "                     kernel_initializer = 'uniform',\n",
    "                     activation = 'sigmoid'))  # for more than 2 categories use 'softmax'"
   ]
  },
  {
   "cell_type": "markdown",
   "metadata": {},
   "source": [
    "##### Compiling the network\n",
    "\n",
    "This adds gradient descent to the Neural Network and makes it ready to execute\n",
    "\n",
    "1) optimizer --> We have various gradient descent algorithms like stochasticetc. We'll use a common one called 'adam'\n",
    "\n",
    "2) loss function --> since we are using the sigmoid function in the last layer this should be a logarithmic function (same as used for logistic regression). Set it as binary_crossentropy\n",
    "\n",
    "3) metrics -> method to evaluate the model after every batch to improve the model. 'accuracy' is the most common"
   ]
  },
  {
   "cell_type": "code",
   "execution_count": 41,
   "metadata": {},
   "outputs": [],
   "source": [
    "# Compile the ANN\n",
    "classifier.compile(optimizer='adam',\n",
    "                  loss='binary_crossentropy',\n",
    "                  metrics=['accuracy'])"
   ]
  },
  {
   "cell_type": "markdown",
   "metadata": {},
   "source": [
    "##### Now we have configured the ANN. Next we'll fit it to our data\n",
    "\n",
    "1) batch_size --> Specify whether the weights would be updated after each observation (Reinforcement learning) or after several observations (batch learning)\n",
    "\n",
    "2) epochs --> how many times to loop through the entire data"
   ]
  },
  {
   "cell_type": "code",
   "execution_count": 42,
   "metadata": {},
   "outputs": [
    {
     "name": "stdout",
     "output_type": "stream",
     "text": [
      "Epoch 1/100\n",
      "8000/8000 [==============================] - 3s 373us/step - loss: 0.4854 - acc: 0.7969\n",
      "Epoch 2/100\n",
      "8000/8000 [==============================] - 1s 128us/step - loss: 0.4225 - acc: 0.8186\n",
      "Epoch 3/100\n",
      "8000/8000 [==============================] - 1s 150us/step - loss: 0.4152 - acc: 0.8277\n",
      "Epoch 4/100\n",
      "8000/8000 [==============================] - 1s 148us/step - loss: 0.4101 - acc: 0.8305\n",
      "Epoch 5/100\n",
      "8000/8000 [==============================] - 1s 131us/step - loss: 0.4060 - acc: 0.8342\n",
      "Epoch 6/100\n",
      "8000/8000 [==============================] - 1s 130us/step - loss: 0.4034 - acc: 0.8339\n",
      "Epoch 7/100\n",
      "8000/8000 [==============================] - 1s 136us/step - loss: 0.4018 - acc: 0.8367\n",
      "Epoch 8/100\n",
      "8000/8000 [==============================] - 1s 141us/step - loss: 0.4007 - acc: 0.8369\n",
      "Epoch 9/100\n",
      "8000/8000 [==============================] - 1s 142us/step - loss: 0.3997 - acc: 0.8359\n",
      "Epoch 10/100\n",
      "8000/8000 [==============================] - 1s 130us/step - loss: 0.3988 - acc: 0.8377\n",
      "Epoch 11/100\n",
      "8000/8000 [==============================] - 1s 130us/step - loss: 0.3978 - acc: 0.8380\n",
      "Epoch 12/100\n",
      "8000/8000 [==============================] - 1s 164us/step - loss: 0.3969 - acc: 0.8376\n",
      "Epoch 13/100\n",
      "8000/8000 [==============================] - 1s 156us/step - loss: 0.3961 - acc: 0.8394\n",
      "Epoch 14/100\n",
      "8000/8000 [==============================] - 1s 148us/step - loss: 0.3949 - acc: 0.8372\n",
      "Epoch 15/100\n",
      "8000/8000 [==============================] - 1s 137us/step - loss: 0.3933 - acc: 0.8381\n",
      "Epoch 16/100\n",
      "8000/8000 [==============================] - 1s 148us/step - loss: 0.3933 - acc: 0.8395\n",
      "Epoch 17/100\n",
      "8000/8000 [==============================] - 1s 165us/step - loss: 0.3919 - acc: 0.8385\n",
      "Epoch 18/100\n",
      "8000/8000 [==============================] - 1s 138us/step - loss: 0.3915 - acc: 0.8399\n",
      "Epoch 19/100\n",
      "8000/8000 [==============================] - 1s 143us/step - loss: 0.3908 - acc: 0.8385\n",
      "Epoch 20/100\n",
      "8000/8000 [==============================] - 1s 161us/step - loss: 0.3905 - acc: 0.8376\n",
      "Epoch 21/100\n",
      "8000/8000 [==============================] - 1s 140us/step - loss: 0.3900 - acc: 0.8380 0s - loss: 0.3943 \n",
      "Epoch 22/100\n",
      "8000/8000 [==============================] - 1s 133us/step - loss: 0.3898 - acc: 0.8386\n",
      "Epoch 23/100\n",
      "8000/8000 [==============================] - 1s 134us/step - loss: 0.3881 - acc: 0.8391\n",
      "Epoch 24/100\n",
      "8000/8000 [==============================] - 1s 153us/step - loss: 0.3876 - acc: 0.8416\n",
      "Epoch 25/100\n",
      "8000/8000 [==============================] - 1s 150us/step - loss: 0.3865 - acc: 0.8387\n",
      "Epoch 26/100\n",
      "8000/8000 [==============================] - 1s 141us/step - loss: 0.3842 - acc: 0.8414\n",
      "Epoch 27/100\n",
      "8000/8000 [==============================] - 1s 133us/step - loss: 0.3793 - acc: 0.8431\n",
      "Epoch 28/100\n",
      "8000/8000 [==============================] - 1s 134us/step - loss: 0.3708 - acc: 0.8475 0s - loss: 0.3\n",
      "Epoch 29/100\n",
      "8000/8000 [==============================] - 1s 133us/step - loss: 0.3608 - acc: 0.8535\n",
      "Epoch 30/100\n",
      "8000/8000 [==============================] - 1s 128us/step - loss: 0.3536 - acc: 0.8582\n",
      "Epoch 31/100\n",
      "8000/8000 [==============================] - 1s 123us/step - loss: 0.3484 - acc: 0.8606\n",
      "Epoch 32/100\n",
      "8000/8000 [==============================] - 1s 128us/step - loss: 0.3449 - acc: 0.8589\n",
      "Epoch 33/100\n",
      "8000/8000 [==============================] - 1s 128us/step - loss: 0.3424 - acc: 0.8637\n",
      "Epoch 34/100\n",
      "8000/8000 [==============================] - 1s 134us/step - loss: 0.3413 - acc: 0.8620\n",
      "Epoch 35/100\n",
      "8000/8000 [==============================] - 1s 131us/step - loss: 0.3404 - acc: 0.8640\n",
      "Epoch 36/100\n",
      "8000/8000 [==============================] - 1s 130us/step - loss: 0.3395 - acc: 0.8626\n",
      "Epoch 37/100\n",
      "8000/8000 [==============================] - 1s 140us/step - loss: 0.3387 - acc: 0.8632\n",
      "Epoch 38/100\n",
      "8000/8000 [==============================] - 1s 127us/step - loss: 0.3389 - acc: 0.8635\n",
      "Epoch 39/100\n",
      "8000/8000 [==============================] - 1s 131us/step - loss: 0.3384 - acc: 0.8631\n",
      "Epoch 40/100\n",
      "8000/8000 [==============================] - 1s 133us/step - loss: 0.3383 - acc: 0.8644\n",
      "Epoch 41/100\n",
      "8000/8000 [==============================] - 1s 132us/step - loss: 0.3385 - acc: 0.8637\n",
      "Epoch 42/100\n",
      "8000/8000 [==============================] - 1s 166us/step - loss: 0.3376 - acc: 0.8636\n",
      "Epoch 43/100\n",
      "8000/8000 [==============================] - 1s 175us/step - loss: 0.3371 - acc: 0.8642\n",
      "Epoch 44/100\n",
      "8000/8000 [==============================] - 1s 139us/step - loss: 0.3367 - acc: 0.8652\n",
      "Epoch 45/100\n",
      "8000/8000 [==============================] - 1s 137us/step - loss: 0.3370 - acc: 0.8634\n",
      "Epoch 46/100\n",
      "8000/8000 [==============================] - 1s 162us/step - loss: 0.3374 - acc: 0.8622\n",
      "Epoch 47/100\n",
      "8000/8000 [==============================] - 1s 144us/step - loss: 0.3375 - acc: 0.8635\n",
      "Epoch 48/100\n",
      "8000/8000 [==============================] - 1s 143us/step - loss: 0.3364 - acc: 0.8635\n",
      "Epoch 49/100\n",
      "8000/8000 [==============================] - 1s 140us/step - loss: 0.3365 - acc: 0.8630\n",
      "Epoch 50/100\n",
      "8000/8000 [==============================] - 1s 149us/step - loss: 0.3366 - acc: 0.8644\n",
      "Epoch 51/100\n",
      "8000/8000 [==============================] - 1s 152us/step - loss: 0.3370 - acc: 0.8640\n",
      "Epoch 52/100\n",
      "8000/8000 [==============================] - 1s 144us/step - loss: 0.3364 - acc: 0.8641\n",
      "Epoch 53/100\n",
      "8000/8000 [==============================] - 1s 152us/step - loss: 0.3367 - acc: 0.8639\n",
      "Epoch 54/100\n",
      "8000/8000 [==============================] - 1s 143us/step - loss: 0.3366 - acc: 0.8650\n",
      "Epoch 55/100\n",
      "8000/8000 [==============================] - 1s 172us/step - loss: 0.3359 - acc: 0.8626\n",
      "Epoch 56/100\n",
      "8000/8000 [==============================] - ETA: 0s - loss: 0.3367 - acc: 0.863 - 2s 215us/step - loss: 0.3368 - acc: 0.8634\n",
      "Epoch 57/100\n",
      "8000/8000 [==============================] - 1s 158us/step - loss: 0.3363 - acc: 0.8626\n",
      "Epoch 58/100\n",
      "8000/8000 [==============================] - 1s 148us/step - loss: 0.3359 - acc: 0.8647 1s - loss: 0.3514 - - ETA: 0s - loss: 0.3409 - acc\n",
      "Epoch 59/100\n",
      "8000/8000 [==============================] - 1s 157us/step - loss: 0.3360 - acc: 0.8652\n",
      "Epoch 60/100\n",
      "8000/8000 [==============================] - 1s 173us/step - loss: 0.3355 - acc: 0.8626\n",
      "Epoch 61/100\n",
      "8000/8000 [==============================] - 1s 169us/step - loss: 0.3366 - acc: 0.8642\n",
      "Epoch 62/100\n",
      "8000/8000 [==============================] - 1s 153us/step - loss: 0.3362 - acc: 0.8611\n",
      "Epoch 63/100\n",
      "8000/8000 [==============================] - 1s 155us/step - loss: 0.3356 - acc: 0.8634\n",
      "Epoch 64/100\n",
      "8000/8000 [==============================] - 1s 156us/step - loss: 0.3368 - acc: 0.8632\n",
      "Epoch 65/100\n",
      "8000/8000 [==============================] - 1s 161us/step - loss: 0.3364 - acc: 0.8652\n",
      "Epoch 66/100\n",
      "8000/8000 [==============================] - 1s 159us/step - loss: 0.3362 - acc: 0.8637\n",
      "Epoch 67/100\n",
      "8000/8000 [==============================] - 1s 176us/step - loss: 0.3359 - acc: 0.8642\n",
      "Epoch 68/100\n",
      "8000/8000 [==============================] - 1s 156us/step - loss: 0.3358 - acc: 0.8639\n",
      "Epoch 69/100\n",
      "8000/8000 [==============================] - 2s 192us/step - loss: 0.3360 - acc: 0.8639\n",
      "Epoch 70/100\n",
      "8000/8000 [==============================] - 1s 135us/step - loss: 0.3356 - acc: 0.8650 1s - loss: \n",
      "Epoch 71/100\n",
      "8000/8000 [==============================] - 1s 185us/step - loss: 0.3361 - acc: 0.8647\n",
      "Epoch 72/100\n",
      "8000/8000 [==============================] - 1s 175us/step - loss: 0.3359 - acc: 0.8621\n",
      "Epoch 73/100\n",
      "8000/8000 [==============================] - 1s 146us/step - loss: 0.3357 - acc: 0.8640\n",
      "Epoch 74/100\n",
      "8000/8000 [==============================] - 1s 150us/step - loss: 0.3360 - acc: 0.8640\n",
      "Epoch 75/100\n",
      "8000/8000 [==============================] - 1s 149us/step - loss: 0.3358 - acc: 0.8625\n",
      "Epoch 76/100\n",
      "8000/8000 [==============================] - 1s 168us/step - loss: 0.3360 - acc: 0.8626\n",
      "Epoch 77/100\n",
      "8000/8000 [==============================] - 1s 151us/step - loss: 0.3354 - acc: 0.8631\n",
      "Epoch 78/100\n",
      "8000/8000 [==============================] - 1s 152us/step - loss: 0.3358 - acc: 0.8634\n",
      "Epoch 79/100\n",
      "8000/8000 [==============================] - 1s 139us/step - loss: 0.3361 - acc: 0.8639\n",
      "Epoch 80/100\n",
      "8000/8000 [==============================] - 1s 119us/step - loss: 0.3360 - acc: 0.8634\n",
      "Epoch 81/100\n",
      "8000/8000 [==============================] - 1s 116us/step - loss: 0.3356 - acc: 0.8636\n",
      "Epoch 82/100\n",
      "8000/8000 [==============================] - 1s 115us/step - loss: 0.3357 - acc: 0.8646\n",
      "Epoch 83/100\n",
      "8000/8000 [==============================] - 1s 116us/step - loss: 0.3352 - acc: 0.8642\n",
      "Epoch 84/100\n",
      "8000/8000 [==============================] - 1s 118us/step - loss: 0.3357 - acc: 0.8635\n",
      "Epoch 85/100\n",
      "8000/8000 [==============================] - 1s 120us/step - loss: 0.3357 - acc: 0.8646\n",
      "Epoch 86/100\n",
      "8000/8000 [==============================] - 1s 116us/step - loss: 0.3352 - acc: 0.8637\n",
      "Epoch 87/100\n",
      "8000/8000 [==============================] - 1s 117us/step - loss: 0.3356 - acc: 0.8636\n",
      "Epoch 88/100\n",
      "8000/8000 [==============================] - 1s 121us/step - loss: 0.3359 - acc: 0.8645\n",
      "Epoch 89/100\n",
      "8000/8000 [==============================] - 1s 125us/step - loss: 0.3351 - acc: 0.8657\n",
      "Epoch 90/100\n",
      "8000/8000 [==============================] - 1s 126us/step - loss: 0.3359 - acc: 0.8640\n",
      "Epoch 91/100\n",
      "8000/8000 [==============================] - 1s 123us/step - loss: 0.3358 - acc: 0.8642\n",
      "Epoch 92/100\n",
      "8000/8000 [==============================] - 1s 127us/step - loss: 0.3352 - acc: 0.8652\n",
      "Epoch 93/100\n",
      "8000/8000 [==============================] - 1s 123us/step - loss: 0.3356 - acc: 0.8636\n",
      "Epoch 94/100\n",
      "8000/8000 [==============================] - 1s 128us/step - loss: 0.3356 - acc: 0.8630\n",
      "Epoch 95/100\n",
      "8000/8000 [==============================] - 1s 157us/step - loss: 0.3353 - acc: 0.8630\n",
      "Epoch 96/100\n",
      "8000/8000 [==============================] - 1s 154us/step - loss: 0.3357 - acc: 0.8641\n",
      "Epoch 97/100\n",
      "8000/8000 [==============================] - 1s 162us/step - loss: 0.3356 - acc: 0.8637\n",
      "Epoch 98/100\n",
      "8000/8000 [==============================] - 1s 142us/step - loss: 0.3355 - acc: 0.8651\n",
      "Epoch 99/100\n",
      "8000/8000 [==============================] - 1s 161us/step - loss: 0.3353 - acc: 0.8654\n",
      "Epoch 100/100\n",
      "8000/8000 [==============================] - 1s 139us/step - loss: 0.3349 - acc: 0.8642\n"
     ]
    },
    {
     "data": {
      "text/plain": [
       "<keras.callbacks.History at 0x19fe2be7f28>"
      ]
     },
     "execution_count": 42,
     "metadata": {},
     "output_type": "execute_result"
    }
   ],
   "source": [
    "# Fit the ANN to the data\n",
    "classifier.fit(X_train, y_train, batch_size=10, epochs=100)"
   ]
  },
  {
   "cell_type": "markdown",
   "metadata": {},
   "source": [
    "##### Now time to predict the outcomes\n",
    "\n",
    "This is the same as classical models. We'll follow the same steps"
   ]
  },
  {
   "cell_type": "code",
   "execution_count": 52,
   "metadata": {},
   "outputs": [
    {
     "name": "stdout",
     "output_type": "stream",
     "text": [
      "Accuracy on test set :  0.8585\n",
      "\n",
      "Confusion Matrix : \n",
      " [[1528   58]\n",
      " [ 225  189]]\n"
     ]
    }
   ],
   "source": [
    "from sklearn.metrics import confusion_matrix, accuracy_score\n",
    "\n",
    "y_pred = classifier.predict(X_test)\n",
    "y_pred = y_pred > 0.5\n",
    "\n",
    "print (\"Accuracy on test set : \", accuracy_score(y_test, y_pred))\n",
    "\n",
    "print (\"\\nConfusion Matrix : \\n\", confusion_matrix(y_test, y_pred))"
   ]
  },
  {
   "cell_type": "markdown",
   "metadata": {},
   "source": [
    "#### Homework assignment : Predicting for a specific customer\n",
    "\n",
    "Geography: France\n",
    "\n",
    "Credit Score: 600\n",
    "\n",
    "Gender: Male\n",
    "\n",
    "Age: 40 years old\n",
    "\n",
    "Tenure: 3 years\n",
    "\n",
    "Balance: $60000\n",
    "\n",
    "Number of Products: 2\n",
    "\n",
    "Does this customer have a credit card ? Yes\n",
    "\n",
    "Is this customer an Active Member: Yes\n",
    "\n",
    "Estimated Salary: $50000\n",
    "\n",
    "So should we say goodbye to that customer ?"
   ]
  },
  {
   "cell_type": "code",
   "execution_count": 74,
   "metadata": {},
   "outputs": [
    {
     "data": {
      "text/html": [
       "<div>\n",
       "<style scoped>\n",
       "    .dataframe tbody tr th:only-of-type {\n",
       "        vertical-align: middle;\n",
       "    }\n",
       "\n",
       "    .dataframe tbody tr th {\n",
       "        vertical-align: top;\n",
       "    }\n",
       "\n",
       "    .dataframe thead th {\n",
       "        text-align: right;\n",
       "    }\n",
       "</style>\n",
       "<table border=\"1\" class=\"dataframe\">\n",
       "  <thead>\n",
       "    <tr style=\"text-align: right;\">\n",
       "      <th></th>\n",
       "      <th>CreditScore</th>\n",
       "      <th>Age</th>\n",
       "      <th>Tenure</th>\n",
       "      <th>Balance</th>\n",
       "      <th>NumOfProducts</th>\n",
       "      <th>HasCrCard</th>\n",
       "      <th>IsActiveMember</th>\n",
       "      <th>EstimatedSalary</th>\n",
       "      <th>Geography_Germany</th>\n",
       "      <th>Geography_Spain</th>\n",
       "      <th>Gender_Male</th>\n",
       "    </tr>\n",
       "  </thead>\n",
       "  <tbody>\n",
       "    <tr>\n",
       "      <th>0</th>\n",
       "      <td>600</td>\n",
       "      <td>40</td>\n",
       "      <td>3</td>\n",
       "      <td>60000</td>\n",
       "      <td>2</td>\n",
       "      <td>1</td>\n",
       "      <td>1</td>\n",
       "      <td>50000</td>\n",
       "      <td>0</td>\n",
       "      <td>0</td>\n",
       "      <td>1</td>\n",
       "    </tr>\n",
       "  </tbody>\n",
       "</table>\n",
       "</div>"
      ],
      "text/plain": [
       "   CreditScore  Age  Tenure  Balance  NumOfProducts  HasCrCard  \\\n",
       "0          600   40       3    60000              2          1   \n",
       "\n",
       "   IsActiveMember  EstimatedSalary  Geography_Germany  Geography_Spain  \\\n",
       "0               1            50000                  0                0   \n",
       "\n",
       "   Gender_Male  \n",
       "0            1  "
      ]
     },
     "execution_count": 74,
     "metadata": {},
     "output_type": "execute_result"
    }
   ],
   "source": [
    "# Select one row and edit it\n",
    "\n",
    "X_cust = X[:1].copy()\n",
    "\n",
    "X_cust['CreditScore'] = 600\n",
    "X_cust['Age'] = 40\n",
    "X_cust['Tenure'] = 3\n",
    "X_cust['Balance'] = 60000\n",
    "X_cust['NumOfProducts'] = 2\n",
    "X_cust['EstimatedSalary'] = 50000\n",
    "X_cust['Gender_Male'] = 1\n",
    "\n",
    "X_cust"
   ]
  },
  {
   "cell_type": "code",
   "execution_count": 75,
   "metadata": {},
   "outputs": [
    {
     "data": {
      "text/plain": [
       "array([[-0.51795799,  0.10698342, -0.69673114, -0.26352876,  0.79286681,\n",
       "         0.64298333,  0.97067965, -0.86629511, -0.57946723, -0.57677292,\n",
       "         0.90682052]])"
      ]
     },
     "execution_count": 75,
     "metadata": {},
     "output_type": "execute_result"
    }
   ],
   "source": [
    "# Scale the data\n",
    "X_cust = sc.transform(X_cust)\n",
    "X_cust"
   ]
  },
  {
   "cell_type": "code",
   "execution_count": 84,
   "metadata": {},
   "outputs": [
    {
     "name": "stdout",
     "output_type": "stream",
     "text": [
      "Should we retain the customer? :  [['No']]\n"
     ]
    }
   ],
   "source": [
    "# Predict if we should retain the customer\n",
    "\n",
    "pred = classifier.predict(X_cust)\n",
    "\n",
    "decision = np.where (pred > 0.5, \"Yes\",\"No\")\n",
    "\n",
    "print (\"Should we retain the customer? : \", decision)"
   ]
  }
 ],
 "metadata": {
  "kernelspec": {
   "display_name": "Python 3",
   "language": "python",
   "name": "python3"
  },
  "language_info": {
   "codemirror_mode": {
    "name": "ipython",
    "version": 3
   },
   "file_extension": ".py",
   "mimetype": "text/x-python",
   "name": "python",
   "nbconvert_exporter": "python",
   "pygments_lexer": "ipython3",
   "version": "3.6.5"
  }
 },
 "nbformat": 4,
 "nbformat_minor": 2
}
